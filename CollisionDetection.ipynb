{
 "cells": [
  {
   "cell_type": "markdown",
   "metadata": {},
   "source": [
    "## Collision Detection using Accelerometer, GPS, and Microphone data from smartphones"
   ]
  },
  {
   "cell_type": "markdown",
   "metadata": {},
   "source": [
    "##### For analyzing the accelerometer data, we used the datasets (accelerations.csv) and (positions.csv) from (https://zenodo.org/record/820576#.Xr-KJS-z3GI). The columns for accelerations.csv are organized as acceleration_id, trip_id, x_value, y_value, z_value, and timestamp. The columns for positions.csv are organized as pos_id, trip_id, latitude, longitude, altitude, and timestamp."
   ]
  },
  {
   "cell_type": "code",
   "execution_count": 1,
   "metadata": {},
   "outputs": [],
   "source": [
    "# Load various imports \n",
    "import pandas as pd\n",
    "import os\n",
    "import librosa\n",
    "import librosa.display\n",
    "import numpy as np\n",
    "import warnings\n",
    "warnings.filterwarnings(\"ignore\")"
   ]
  },
  {
   "cell_type": "code",
   "execution_count": 41,
   "metadata": {},
   "outputs": [],
   "source": [
    "# Set G-Force Threshold\n",
    "g_force_threshold = 4.0"
   ]
  },
  {
   "cell_type": "code",
   "execution_count": 42,
   "metadata": {},
   "outputs": [],
   "source": [
    "# Read csv datasets\n",
    "acc = pd.read_csv('accelerations.csv', index_col=0)\n",
    "pos = pd.read_csv('positions.csv', index_col=0)"
   ]
  },
  {
   "cell_type": "code",
   "execution_count": 43,
   "metadata": {},
   "outputs": [],
   "source": [
    "# Returns booloean value along with trip id if a collision is detected\n",
    "def detectCollisionByTripId(tripID):\n",
    "    trip = acc.copy()\n",
    "    trip = acc[acc['trip_id'] == tripID]\n",
    "#   calculate g-force using accelerometer data  \n",
    "    trip['g_force'] = np.sqrt(trip['x_value']**2+trip['y_value']**2+trip['z_value']**2)\n",
    "    max_g_force = max(trip['g_force'])\n",
    "    potential_collision = trip[trip['g_force'] == max_g_force]\n",
    "    pc_tripID = potential_collision['trip_id'].values[0]\n",
    "    pc_timestamp = potential_collision['timestamp'].values[0]\n",
    "    pc_gforce = potential_collision['g_force'].values[0]\n",
    "    is_collision = pc_gforce >= g_force_threshold\n",
    "    return is_collision, pc_tripID"
   ]
  },
  {
   "cell_type": "code",
   "execution_count": 61,
   "metadata": {},
   "outputs": [
    {
     "data": {
      "text/plain": [
       "(True, 23)"
      ]
     },
     "execution_count": 61,
     "metadata": {},
     "output_type": "execute_result"
    }
   ],
   "source": [
    "detectCollisionByTripId(23)"
   ]
  },
  {
   "cell_type": "code",
   "execution_count": 44,
   "metadata": {},
   "outputs": [],
   "source": [
    "def getCollisionLatLongByTripID(pc_tripID):\n",
    "    loc = pos[pos['trip_id'] == pc_tripID][-1:]\n",
    "    lat = loc['latitude'].values[0]\n",
    "    long = loc['longitude'].values[0]\n",
    "    return lat, long"
   ]
  },
  {
   "cell_type": "code",
   "execution_count": 62,
   "metadata": {},
   "outputs": [
    {
     "data": {
      "text/plain": [
       "(4703.5341, 1527.7535)"
      ]
     },
     "execution_count": 62,
     "metadata": {},
     "output_type": "execute_result"
    }
   ],
   "source": [
    "getCollisionLatLongByTripID(23)"
   ]
  },
  {
   "cell_type": "markdown",
   "metadata": {},
   "source": [
    "## Machine Learning Model for collision sound detection"
   ]
  },
  {
   "cell_type": "code",
   "execution_count": 2,
   "metadata": {},
   "outputs": [
    {
     "data": {
      "text/plain": [
       "<matplotlib.axes._subplots.AxesSubplot at 0x1f3f1a4cd88>"
      ]
     },
     "execution_count": 2,
     "metadata": {},
     "output_type": "execute_result"
    },
    {
     "data": {
      "image/png": "[encoded data removed]",
      "text/plain": [
       "<Figure size 432x288 with 1 Axes>"
      ]
     },
     "metadata": {
      "needs_background": "light"
     },
     "output_type": "display_data"
    }
   ],
   "source": [
    "#Displaying the sample MFCC for a audio input\n",
    "audio, sample_rate = librosa.load(\"C:/Users/Achuth/Desktop/iot project/CarCrashdataset/Audio-1.mp3\", res_type='kaiser_fast')\n",
    "mfccs = librosa.feature.mfcc(y=audio, sr=sample_rate, n_mfcc=1)\n",
    "librosa.display.specshow(mfccs, x_axis='time')"
   ]
  },
  {
   "cell_type": "code",
   "execution_count": 3,
   "metadata": {},
   "outputs": [
    {
     "name": "stdout",
     "output_type": "stream",
     "text": [
      "Finished feature extraction from  1000  files\n",
      "                                               feature    class_label\n",
      "0    [-246.45442, 155.92108, -12.987366, 4.842762, ...      car_crash\n",
      "1    [-246.45442, 155.92108, -12.987366, 4.842762, ...      car_crash\n",
      "2    [-177.33585, 122.195786, -25.944908, 32.7656, ...      car_crash\n",
      "3    [-177.33585, 122.195786, -25.944908, 32.7656, ...      car_crash\n",
      "4    [-300.929, 139.43114, 22.67501, 38.990883, 16....      car_crash\n",
      "..                                                 ...            ...\n",
      "995  [-191.07962, 134.24522, -54.28788, -1.3149573,...  not_car_crash\n",
      "996  [-191.07962, 134.24522, -54.28788, -1.3149573,...  not_car_crash\n",
      "997  [-191.07962, 134.24522, -54.28788, -1.3149573,...  not_car_crash\n",
      "998  [-191.07962, 134.24522, -54.28788, -1.3149573,...  not_car_crash\n",
      "999  [-191.07962, 134.24522, -54.28788, -1.3149573,...  not_car_crash\n",
      "\n",
      "[1000 rows x 2 columns]\n"
     ]
    }
   ],
   "source": [
    "#Reading all the audio files in a loop and creating the MFCC's with 10 features\n",
    "\n",
    "def extract_features(file_name):\n",
    "    audio, sample_rate = librosa.load(file_name, res_type='kaiser_fast') \n",
    "    mfccs = librosa.feature.mfcc(y=audio, sr=sample_rate, n_mfcc=10)\n",
    "    #librosa.display.specshow(mfccs, x_axis='time')\n",
    "    mfccsscaled = np.mean(mfccs.T,axis=0)\n",
    "    return mfccsscaled\n",
    "\n",
    "\n",
    "# Set the path to the CarCrashdataset \n",
    "fulldatasetpath = \"C:/Users/Achuth/Desktop/iot project\"\n",
    "\n",
    "metadata = pd.read_csv(fulldatasetpath + \"/metadata.csv\")\n",
    "\n",
    "features = []\n",
    "\n",
    "# Iterate through each sound file and extract the MFCC features \n",
    "for index, row in metadata.iterrows():\n",
    "    file_name = os.path.join((fulldatasetpath)+'/',str(row[\"fold\"])+'/',str(row[\"slice_file_name\"]+'.mp3'))\n",
    "    class_label = row[\"class_name\"]\n",
    "    data = extract_features(file_name)\n",
    "    \n",
    "    features.append([data, class_label])\n",
    "\n",
    "# Convert into a Panda dataframe \n",
    "featuresdf = pd.DataFrame(features, columns=['feature','class_label'])\n",
    "\n",
    "print('Finished feature extraction from ', len(featuresdf), ' files')\n",
    "print(featuresdf)\n"
   ]
  },
  {
   "cell_type": "code",
   "execution_count": 4,
   "metadata": {},
   "outputs": [],
   "source": [
    "from sklearn.preprocessing import LabelEncoder\n",
    "from sklearn.model_selection import train_test_split\n",
    "\n",
    "# Convert features and corresponding classification labels into numpy arrays\n",
    "X = np.array(featuresdf.feature.tolist())\n",
    "y = np.array(featuresdf.class_label.tolist())\n",
    "\n",
    "# Encode the classification labels\n",
    "yy= LabelEncoder().fit_transform(y)\n",
    "\n",
    "# split the dataset into train and test dataset's\n",
    "x_train, x_test, y_train, y_test = train_test_split(X, yy, test_size=0.05, random_state = 42)"
   ]
  },
  {
   "cell_type": "code",
   "execution_count": 5,
   "metadata": {},
   "outputs": [
    {
     "name": "stdout",
     "output_type": "stream",
     "text": [
      "(950, 10) (50, 10) (950,) (50,)\n"
     ]
    }
   ],
   "source": [
    "print (x_train.shape, x_test.shape, y_train.shape, y_test.shape)"
   ]
  },
  {
   "cell_type": "code",
   "execution_count": 6,
   "metadata": {},
   "outputs": [
    {
     "name": "stderr",
     "output_type": "stream",
     "text": [
      "Using TensorFlow backend.\n"
     ]
    }
   ],
   "source": [
    "# Building the Machine Learning Model\n",
    "import numpy as np\n",
    "import tensorflow as tf\n",
    "from keras.models import Sequential\n",
    "from keras.layers import Dense, Dropout, Activation, Flatten\n",
    "from keras.layers import Convolution2D, MaxPooling2D\n",
    "from keras.optimizers import Adam\n",
    "from keras.utils import np_utils\n",
    "from sklearn import metrics \n",
    "\n",
    "num_labels = yy.shape[0] \n",
    "filter_size = 2\n",
    "\n",
    "# Construct a TensorFlow-Keras sequential model \n",
    "\n",
    "model = Sequential()\n",
    "model.add(Dense(12, input_dim=10, activation='relu'))\n",
    "model.add(Dense(6, activation='relu'))\n",
    "model.add(Dense(1, activation='sigmoid'))"
   ]
  },
  {
   "cell_type": "code",
   "execution_count": 7,
   "metadata": {},
   "outputs": [],
   "source": [
    "# Compiling the Machine Learning Model\n",
    "model.compile(loss='binary_crossentropy', optimizer='adam', metrics=['accuracy'])"
   ]
  },
  {
   "cell_type": "code",
   "execution_count": 8,
   "metadata": {},
   "outputs": [
    {
     "name": "stdout",
     "output_type": "stream",
     "text": [
      "Model: \"sequential_1\"\n",
      "_________________________________________________________________\n",
      "Layer (type)                 Output Shape              Param #   \n",
      "=================================================================\n",
      "dense_1 (Dense)              (None, 12)                132       \n",
      "_________________________________________________________________\n",
      "dense_2 (Dense)              (None, 6)                 78        \n",
      "_________________________________________________________________\n",
      "dense_3 (Dense)              (None, 1)                 7         \n",
      "=================================================================\n",
      "Total params: 217\n",
      "Trainable params: 217\n",
      "Non-trainable params: 0\n",
      "_________________________________________________________________\n",
      "50/50 [==============================] - 0s 1ms/step\n",
      "Pre-training accuracy: 18.0000%\n"
     ]
    }
   ],
   "source": [
    "# Display Model summary \n",
    "model.summary()\n",
    "\n",
    "# Calculate pre-training accuracy of the test dataset\n",
    "score = model.evaluate(x_test, y_test)\n",
    "accuracy = 100*score[1]\n",
    "print(\"Pre-training accuracy: %.4f%%\" % accuracy)"
   ]
  },
  {
   "cell_type": "code",
   "execution_count": 9,
   "metadata": {},
   "outputs": [
    {
     "name": "stdout",
     "output_type": "stream",
     "text": [
      "Epoch 1/30\n",
      "950/950 [==============================] - 0s 223us/step - loss: 4.5485 - accuracy: 0.6779\n",
      "Epoch 2/30\n",
      "950/950 [==============================] - 0s 97us/step - loss: 1.0983 - accuracy: 0.8221\n",
      "Epoch 3/30\n",
      "950/950 [==============================] - 0s 94us/step - loss: 0.6927 - accuracy: 0.8463\n",
      "Epoch 4/30\n",
      "950/950 [==============================] - 0s 88us/step - loss: 0.4343 - accuracy: 0.8832\n",
      "Epoch 5/30\n",
      "950/950 [==============================] - 0s 86us/step - loss: 0.3460 - accuracy: 0.9000\n",
      "Epoch 6/30\n",
      "950/950 [==============================] - 0s 88us/step - loss: 0.3057 - accuracy: 0.8989\n",
      "Epoch 7/30\n",
      "950/950 [==============================] - 0s 89us/step - loss: 0.2751 - accuracy: 0.9200\n",
      "Epoch 8/30\n",
      "950/950 [==============================] - 0s 87us/step - loss: 0.2867 - accuracy: 0.9074\n",
      "Epoch 9/30\n",
      "950/950 [==============================] - 0s 87us/step - loss: 0.2556 - accuracy: 0.9200\n",
      "Epoch 10/30\n",
      "950/950 [==============================] - 0s 91us/step - loss: 0.2389 - accuracy: 0.9211\n",
      "Epoch 11/30\n",
      "950/950 [==============================] - 0s 101us/step - loss: 0.2302 - accuracy: 0.9189\n",
      "Epoch 12/30\n",
      "950/950 [==============================] - 0s 89us/step - loss: 0.2182 - accuracy: 0.9253\n",
      "Epoch 13/30\n",
      "950/950 [==============================] - 0s 89us/step - loss: 0.2174 - accuracy: 0.9284\n",
      "Epoch 14/30\n",
      "950/950 [==============================] - 0s 98us/step - loss: 0.2169 - accuracy: 0.9295\n",
      "Epoch 15/30\n",
      "950/950 [==============================] - 0s 95us/step - loss: 0.2030 - accuracy: 0.9347\n",
      "Epoch 16/30\n",
      "950/950 [==============================] - 0s 92us/step - loss: 0.1923 - accuracy: 0.9358\n",
      "Epoch 17/30\n",
      "950/950 [==============================] - 0s 90us/step - loss: 0.1805 - accuracy: 0.9305\n",
      "Epoch 18/30\n",
      "950/950 [==============================] - 0s 89us/step - loss: 0.1795 - accuracy: 0.9400\n",
      "Epoch 19/30\n",
      "950/950 [==============================] - 0s 89us/step - loss: 0.1830 - accuracy: 0.9347\n",
      "Epoch 20/30\n",
      "950/950 [==============================] - 0s 102us/step - loss: 0.1689 - accuracy: 0.9432\n",
      "Epoch 21/30\n",
      "950/950 [==============================] - 0s 99us/step - loss: 0.1696 - accuracy: 0.9463\n",
      "Epoch 22/30\n",
      "950/950 [==============================] - 0s 101us/step - loss: 0.1684 - accuracy: 0.9442\n",
      "Epoch 23/30\n",
      "950/950 [==============================] - 0s 135us/step - loss: 0.1495 - accuracy: 0.9516\n",
      "Epoch 24/30\n",
      "950/950 [==============================] - 0s 108us/step - loss: 0.1516 - accuracy: 0.9453\n",
      "Epoch 25/30\n",
      "950/950 [==============================] - 0s 105us/step - loss: 0.1494 - accuracy: 0.9389\n",
      "Epoch 26/30\n",
      "950/950 [==============================] - 0s 104us/step - loss: 0.1415 - accuracy: 0.9368\n",
      "Epoch 27/30\n",
      "950/950 [==============================] - 0s 115us/step - loss: 0.1434 - accuracy: 0.9495\n",
      "Epoch 28/30\n",
      "950/950 [==============================] - 0s 110us/step - loss: 0.1331 - accuracy: 0.9516\n",
      "Epoch 29/30\n",
      "950/950 [==============================] - 0s 99us/step - loss: 0.1437 - accuracy: 0.9368\n",
      "Epoch 30/30\n",
      "950/950 [==============================] - 0s 102us/step - loss: 0.1336 - accuracy: 0.9453\n"
     ]
    },
    {
     "data": {
      "text/plain": [
       "<keras.callbacks.callbacks.History at 0x1f3f554ecc8>"
      ]
     },
     "execution_count": 9,
     "metadata": {},
     "output_type": "execute_result"
    }
   ],
   "source": [
    "# Training the Model with the train dataset and epochs=30\n",
    "model.fit(x_train, y_train, epochs=30, batch_size=10)"
   ]
  },
  {
   "cell_type": "code",
   "execution_count": 10,
   "metadata": {},
   "outputs": [
    {
     "name": "stdout",
     "output_type": "stream",
     "text": [
      "950/950 [==============================] - 0s 16us/step\n",
      "Training Accuracy:  95.26315927505493\n",
      "50/50 [==============================] - 0s 20us/step\n",
      "Testing Accuracy:  92.00000166893005\n"
     ]
    }
   ],
   "source": [
    "# Calculating the Post-Training accuracies for the datasets\n",
    "score = model.evaluate(x_train, y_train)\n",
    "print(\"Training Accuracy: \", 100*score[1])\n",
    "\n",
    "score = model.evaluate(x_test, y_test)\n",
    "print(\"Testing Accuracy: \", 100*score[1])"
   ]
  },
  {
   "cell_type": "code",
   "execution_count": 12,
   "metadata": {},
   "outputs": [],
   "source": [
    "#Making the predictions over the test dataset x_test\n",
    "predictions = model.predict_classes(x_test)"
   ]
  },
  {
   "cell_type": "raw",
   "metadata": {},
   "source": [
    "## Running Machine Learning Model on an experimental dataset to know the accuracy of the model"
   ]
  },
  {
   "cell_type": "code",
   "execution_count": 13,
   "metadata": {},
   "outputs": [
    {
     "name": "stdout",
     "output_type": "stream",
     "text": [
      "Finished feature extraction from  30 test files\n"
     ]
    }
   ],
   "source": [
    "#Setting the path for the experimental dataset\n",
    "fulldatasetpath = \"C:/Users/Achuth/Desktop/iot project\"\n",
    "metadata = pd.read_csv(fulldatasetpath + \"/experimetal_data.csv\")\n",
    "\n",
    "# Iterate through each sound file and extract the features\n",
    "features = []\n",
    "for index, row in metadata.iterrows():\n",
    "    file_name = os.path.join((fulldatasetpath)+'/',str(row[\"fold\"])+'/',str(row[\"slice_file_name\"]+'.mp3'))\n",
    "    class_label = row[\"class_name\"]\n",
    "    data = extract_features(file_name)\n",
    "    \n",
    "    features.append([data, class_label])\n",
    "\n",
    "# Convert into a Panda dataframe \n",
    "featuresdf = pd.DataFrame(features, columns=['feature','class_label'])\n",
    "print('Finished feature extraction from ', len(featuresdf), 'test files')"
   ]
  },
  {
   "cell_type": "code",
   "execution_count": 14,
   "metadata": {},
   "outputs": [],
   "source": [
    "X = np.array(featuresdf.feature.tolist())\n",
    "y = np.array(featuresdf.class_label.tolist())\n",
    "yy= LabelEncoder().fit_transform(y)"
   ]
  },
  {
   "cell_type": "code",
   "execution_count": 15,
   "metadata": {},
   "outputs": [],
   "source": [
    "predictions = model.predict_classes(X)"
   ]
  },
  {
   "cell_type": "code",
   "execution_count": 16,
   "metadata": {},
   "outputs": [
    {
     "data": {
      "text/html": [
       "<div>\n",
       "<style scoped>\n",
       "    .dataframe tbody tr th:only-of-type {\n",
       "        vertical-align: middle;\n",
       "    }\n",
       "\n",
       "    .dataframe tbody tr th {\n",
       "        vertical-align: top;\n",
       "    }\n",
       "\n",
       "    .dataframe thead th {\n",
       "        text-align: right;\n",
       "    }\n",
       "</style>\n",
       "<table border=\"1\" class=\"dataframe\">\n",
       "  <thead>\n",
       "    <tr style=\"text-align: right;\">\n",
       "      <th></th>\n",
       "      <th>feature</th>\n",
       "      <th>class_label</th>\n",
       "      <th>Predictions</th>\n",
       "    </tr>\n",
       "  </thead>\n",
       "  <tbody>\n",
       "    <tr>\n",
       "      <th>0</th>\n",
       "      <td>[-246.45442, 155.92108, -12.987366, 4.842762, ...</td>\n",
       "      <td>car_crash</td>\n",
       "      <td>car_crash</td>\n",
       "    </tr>\n",
       "    <tr>\n",
       "      <th>1</th>\n",
       "      <td>[-246.45442, 155.92108, -12.987366, 4.842762, ...</td>\n",
       "      <td>car_crash</td>\n",
       "      <td>car_crash</td>\n",
       "    </tr>\n",
       "    <tr>\n",
       "      <th>2</th>\n",
       "      <td>[-209.83623, 122.65362, -10.790116, 36.17281, ...</td>\n",
       "      <td>car_crash</td>\n",
       "      <td>car_crash</td>\n",
       "    </tr>\n",
       "    <tr>\n",
       "      <th>3</th>\n",
       "      <td>[-212.44893, 108.82279, -12.059541, 36.884037,...</td>\n",
       "      <td>car_crash</td>\n",
       "      <td>car_crash</td>\n",
       "    </tr>\n",
       "    <tr>\n",
       "      <th>4</th>\n",
       "      <td>[-209.83623, 122.65362, -10.790116, 36.17281, ...</td>\n",
       "      <td>car_crash</td>\n",
       "      <td>car_crash</td>\n",
       "    </tr>\n",
       "    <tr>\n",
       "      <th>5</th>\n",
       "      <td>[-212.44893, 108.82279, -12.059541, 36.884037,...</td>\n",
       "      <td>car_crash</td>\n",
       "      <td>car_crash</td>\n",
       "    </tr>\n",
       "    <tr>\n",
       "      <th>6</th>\n",
       "      <td>[-209.83623, 122.65362, -10.790116, 36.17281, ...</td>\n",
       "      <td>car_crash</td>\n",
       "      <td>car_crash</td>\n",
       "    </tr>\n",
       "    <tr>\n",
       "      <th>7</th>\n",
       "      <td>[-212.44893, 108.82279, -12.059541, 36.884037,...</td>\n",
       "      <td>car_crash</td>\n",
       "      <td>car_crash</td>\n",
       "    </tr>\n",
       "    <tr>\n",
       "      <th>8</th>\n",
       "      <td>[-209.83623, 122.65362, -10.790116, 36.17281, ...</td>\n",
       "      <td>car_crash</td>\n",
       "      <td>car_crash</td>\n",
       "    </tr>\n",
       "    <tr>\n",
       "      <th>9</th>\n",
       "      <td>[-212.44893, 108.82279, -12.059541, 36.884037,...</td>\n",
       "      <td>car_crash</td>\n",
       "      <td>car_crash</td>\n",
       "    </tr>\n",
       "    <tr>\n",
       "      <th>10</th>\n",
       "      <td>[-209.83623, 122.65362, -10.790116, 36.17281, ...</td>\n",
       "      <td>car_crash</td>\n",
       "      <td>car_crash</td>\n",
       "    </tr>\n",
       "    <tr>\n",
       "      <th>11</th>\n",
       "      <td>[-212.44893, 108.82279, -12.059541, 36.884037,...</td>\n",
       "      <td>car_crash</td>\n",
       "      <td>car_crash</td>\n",
       "    </tr>\n",
       "    <tr>\n",
       "      <th>12</th>\n",
       "      <td>[-209.83623, 122.65362, -10.790116, 36.17281, ...</td>\n",
       "      <td>car_crash</td>\n",
       "      <td>car_crash</td>\n",
       "    </tr>\n",
       "    <tr>\n",
       "      <th>13</th>\n",
       "      <td>[-212.44893, 108.82279, -12.059541, 36.884037,...</td>\n",
       "      <td>car_crash</td>\n",
       "      <td>car_crash</td>\n",
       "    </tr>\n",
       "    <tr>\n",
       "      <th>14</th>\n",
       "      <td>[-209.83623, 122.65362, -10.790116, 36.17281, ...</td>\n",
       "      <td>car_crash</td>\n",
       "      <td>car_crash</td>\n",
       "    </tr>\n",
       "    <tr>\n",
       "      <th>15</th>\n",
       "      <td>[-212.44893, 108.82279, -12.059541, 36.884037,...</td>\n",
       "      <td>car_crash</td>\n",
       "      <td>car_crash</td>\n",
       "    </tr>\n",
       "    <tr>\n",
       "      <th>16</th>\n",
       "      <td>[-209.83623, 122.65362, -10.790116, 36.17281, ...</td>\n",
       "      <td>car_crash</td>\n",
       "      <td>car_crash</td>\n",
       "    </tr>\n",
       "    <tr>\n",
       "      <th>17</th>\n",
       "      <td>[-212.44893, 108.82279, -12.059541, 36.884037,...</td>\n",
       "      <td>car_crash</td>\n",
       "      <td>car_crash</td>\n",
       "    </tr>\n",
       "    <tr>\n",
       "      <th>18</th>\n",
       "      <td>[-209.83623, 122.65362, -10.790116, 36.17281, ...</td>\n",
       "      <td>car_crash</td>\n",
       "      <td>car_crash</td>\n",
       "    </tr>\n",
       "    <tr>\n",
       "      <th>19</th>\n",
       "      <td>[-212.44893, 108.82279, -12.059541, 36.884037,...</td>\n",
       "      <td>car_crash</td>\n",
       "      <td>car_crash</td>\n",
       "    </tr>\n",
       "    <tr>\n",
       "      <th>20</th>\n",
       "      <td>[-324.14456, 132.61604, -1.7385696, 38.39473, ...</td>\n",
       "      <td>not_car_crash</td>\n",
       "      <td>car_crash</td>\n",
       "    </tr>\n",
       "    <tr>\n",
       "      <th>21</th>\n",
       "      <td>[-351.0002, 152.60118, 14.387908, 34.48313, -6...</td>\n",
       "      <td>not_car_crash</td>\n",
       "      <td>car_crash</td>\n",
       "    </tr>\n",
       "    <tr>\n",
       "      <th>22</th>\n",
       "      <td>[-392.1287, 174.58437, -10.2487545, 30.142542,...</td>\n",
       "      <td>not_car_crash</td>\n",
       "      <td>not_car_crash</td>\n",
       "    </tr>\n",
       "    <tr>\n",
       "      <th>23</th>\n",
       "      <td>[-242.81023, 167.47656, -22.929487, 64.323456,...</td>\n",
       "      <td>not_car_crash</td>\n",
       "      <td>not_car_crash</td>\n",
       "    </tr>\n",
       "    <tr>\n",
       "      <th>24</th>\n",
       "      <td>[-132.14397, 137.80429, -64.48338, 0.11385782,...</td>\n",
       "      <td>not_car_crash</td>\n",
       "      <td>not_car_crash</td>\n",
       "    </tr>\n",
       "    <tr>\n",
       "      <th>25</th>\n",
       "      <td>[-212.59032, 152.09256, -68.43487, -3.1242924,...</td>\n",
       "      <td>not_car_crash</td>\n",
       "      <td>not_car_crash</td>\n",
       "    </tr>\n",
       "    <tr>\n",
       "      <th>26</th>\n",
       "      <td>[-204.68661, 135.2286, -36.79864, 13.166146, -...</td>\n",
       "      <td>not_car_crash</td>\n",
       "      <td>not_car_crash</td>\n",
       "    </tr>\n",
       "    <tr>\n",
       "      <th>27</th>\n",
       "      <td>[-334.6649, 163.39398, -46.700592, -2.8775048,...</td>\n",
       "      <td>not_car_crash</td>\n",
       "      <td>not_car_crash</td>\n",
       "    </tr>\n",
       "    <tr>\n",
       "      <th>28</th>\n",
       "      <td>[-191.07962, 134.24522, -54.28788, -1.3149573,...</td>\n",
       "      <td>not_car_crash</td>\n",
       "      <td>not_car_crash</td>\n",
       "    </tr>\n",
       "    <tr>\n",
       "      <th>29</th>\n",
       "      <td>[-191.07962, 134.24522, -54.28788, -1.3149573,...</td>\n",
       "      <td>not_car_crash</td>\n",
       "      <td>not_car_crash</td>\n",
       "    </tr>\n",
       "  </tbody>\n",
       "</table>\n",
       "</div>"
      ],
      "text/plain": [
       "                                              feature    class_label  \\\n",
       "0   [-246.45442, 155.92108, -12.987366, 4.842762, ...      car_crash   \n",
       "1   [-246.45442, 155.92108, -12.987366, 4.842762, ...      car_crash   \n",
       "2   [-209.83623, 122.65362, -10.790116, 36.17281, ...      car_crash   \n",
       "3   [-212.44893, 108.82279, -12.059541, 36.884037,...      car_crash   \n",
       "4   [-209.83623, 122.65362, -10.790116, 36.17281, ...      car_crash   \n",
       "5   [-212.44893, 108.82279, -12.059541, 36.884037,...      car_crash   \n",
       "6   [-209.83623, 122.65362, -10.790116, 36.17281, ...      car_crash   \n",
       "7   [-212.44893, 108.82279, -12.059541, 36.884037,...      car_crash   \n",
       "8   [-209.83623, 122.65362, -10.790116, 36.17281, ...      car_crash   \n",
       "9   [-212.44893, 108.82279, -12.059541, 36.884037,...      car_crash   \n",
       "10  [-209.83623, 122.65362, -10.790116, 36.17281, ...      car_crash   \n",
       "11  [-212.44893, 108.82279, -12.059541, 36.884037,...      car_crash   \n",
       "12  [-209.83623, 122.65362, -10.790116, 36.17281, ...      car_crash   \n",
       "13  [-212.44893, 108.82279, -12.059541, 36.884037,...      car_crash   \n",
       "14  [-209.83623, 122.65362, -10.790116, 36.17281, ...      car_crash   \n",
       "15  [-212.44893, 108.82279, -12.059541, 36.884037,...      car_crash   \n",
       "16  [-209.83623, 122.65362, -10.790116, 36.17281, ...      car_crash   \n",
       "17  [-212.44893, 108.82279, -12.059541, 36.884037,...      car_crash   \n",
       "18  [-209.83623, 122.65362, -10.790116, 36.17281, ...      car_crash   \n",
       "19  [-212.44893, 108.82279, -12.059541, 36.884037,...      car_crash   \n",
       "20  [-324.14456, 132.61604, -1.7385696, 38.39473, ...  not_car_crash   \n",
       "21  [-351.0002, 152.60118, 14.387908, 34.48313, -6...  not_car_crash   \n",
       "22  [-392.1287, 174.58437, -10.2487545, 30.142542,...  not_car_crash   \n",
       "23  [-242.81023, 167.47656, -22.929487, 64.323456,...  not_car_crash   \n",
       "24  [-132.14397, 137.80429, -64.48338, 0.11385782,...  not_car_crash   \n",
       "25  [-212.59032, 152.09256, -68.43487, -3.1242924,...  not_car_crash   \n",
       "26  [-204.68661, 135.2286, -36.79864, 13.166146, -...  not_car_crash   \n",
       "27  [-334.6649, 163.39398, -46.700592, -2.8775048,...  not_car_crash   \n",
       "28  [-191.07962, 134.24522, -54.28788, -1.3149573,...  not_car_crash   \n",
       "29  [-191.07962, 134.24522, -54.28788, -1.3149573,...  not_car_crash   \n",
       "\n",
       "      Predictions  \n",
       "0       car_crash  \n",
       "1       car_crash  \n",
       "2       car_crash  \n",
       "3       car_crash  \n",
       "4       car_crash  \n",
       "5       car_crash  \n",
       "6       car_crash  \n",
       "7       car_crash  \n",
       "8       car_crash  \n",
       "9       car_crash  \n",
       "10      car_crash  \n",
       "11      car_crash  \n",
       "12      car_crash  \n",
       "13      car_crash  \n",
       "14      car_crash  \n",
       "15      car_crash  \n",
       "16      car_crash  \n",
       "17      car_crash  \n",
       "18      car_crash  \n",
       "19      car_crash  \n",
       "20      car_crash  \n",
       "21      car_crash  \n",
       "22  not_car_crash  \n",
       "23  not_car_crash  \n",
       "24  not_car_crash  \n",
       "25  not_car_crash  \n",
       "26  not_car_crash  \n",
       "27  not_car_crash  \n",
       "28  not_car_crash  \n",
       "29  not_car_crash  "
      ]
     },
     "execution_count": 16,
     "metadata": {},
     "output_type": "execute_result"
    }
   ],
   "source": [
    "preds_conversion = []\n",
    "for i in predictions:\n",
    "    converted_label = 'car_crash'\n",
    "    if (i != 0):\n",
    "        converted_label = 'not_car_crash'\n",
    "    preds_conversion.append(converted_label)\n",
    "\n",
    "preds_conversion\n",
    "featuresdf['Predictions'] = preds_conversion\n",
    "featuresdf"
   ]
  },
  {
   "cell_type": "code",
   "execution_count": 17,
   "metadata": {},
   "outputs": [
    {
     "data": {
      "text/plain": [
       "93.33333333333333"
      ]
     },
     "execution_count": 17,
     "metadata": {},
     "output_type": "execute_result"
    }
   ],
   "source": [
    "def getAccuracy():\n",
    "    count = 0\n",
    "    for label, row in featuresdf.iterrows():\n",
    "        if row.Predictions == row.class_label:\n",
    "            count += 1\n",
    "    return (count/len(featuresdf))*100\n",
    "        \n",
    "getAccuracy()"
   ]
  },
  {
   "cell_type": "code",
   "execution_count": 33,
   "metadata": {},
   "outputs": [],
   "source": [
    "def is_collision_sound(audio_file):\n",
    "    features = []\n",
    "    file_name = \"C:/Users/Achuth/Desktop/iot project/CarCrashdataset/\"+audio_file\n",
    "    class_label = row[\"class_name\"]\n",
    "    data = extract_features(file_name)\n",
    "    features.append([data, class_label])\n",
    "    \n",
    "    featuresdf = pd.DataFrame(features, columns=['feature','class_label'])\n",
    "    \n",
    "    X = np.array(featuresdf.feature.tolist())\n",
    "    y = np.array(featuresdf.class_label.tolist())\n",
    "    yy= LabelEncoder().fit_transform(y)\n",
    "    predictions = model.predict_classes(X)\n",
    "    if(predictions == 0):\n",
    "        return 'Yes'\n",
    "    else:\n",
    "        return 'No'    "
   ]
  },
  {
   "cell_type": "markdown",
   "metadata": {},
   "source": [
    "## Collision Detection\n",
    "\n",
    "##### We detect a collision based on two parameters: g-force and crash sound. To calculate the g-force we will utilize the accelerometer data received from the smartphone sensors. If the g-force exceeds a value of 4, we will procced to analyze the second parameter, the crash sound. We employ a Machine Learning model in tandem with a neural network to differentiate between a crash and a non-crash sound. If both the parameters return true, we then say that a collision has occurred and share the co-ordinates of the crash location.\n",
    "\n",
    "\n",
    "##### Note: trip_id ranges from 3 - 35, out of which id's 12 and 23 have g-force > 4. Audio files range from Audio-1 - Audio-1000 out of which Audio 1 - Audio 900 represent crash sounds and the rest represent non-crash sounds. \n"
   ]
  },
  {
   "cell_type": "code",
   "execution_count": 53,
   "metadata": {},
   "outputs": [],
   "source": [
    "# trip_id gives the accelerometer data from the dataset\n",
    "# audio_file contains the collision sound collected from microphone\n",
    "def detectCollision(trip_id, audio_file):\n",
    "    is_collision, pc_tripID = detectCollisionByTripId(trip_id)\n",
    "    if is_collision:\n",
    "        is_crash_sound = is_collision_sound(audio_file)\n",
    "        if is_crash_sound == 'Yes':\n",
    "            lat, long = getCollisionLatLongByTripID(pc_tripID)\n",
    "            print('Collision detected!')\n",
    "            print('Location')\n",
    "            print('Latitude: '+ str(lat))\n",
    "            print('Longitude: '+ str(long))\n",
    "            print('Notified emergency responders!')\n",
    "        else:\n",
    "            print('Not a crash! False positive from accelerometer.')\n",
    "    else:\n",
    "        print('Not a crash!')"
   ]
  },
  {
   "cell_type": "markdown",
   "metadata": {},
   "source": [
    "##### Case 1: Collision"
   ]
  },
  {
   "cell_type": "code",
   "execution_count": 57,
   "metadata": {},
   "outputs": [
    {
     "name": "stdout",
     "output_type": "stream",
     "text": [
      "Collision detected!\n",
      "Location\n",
      "Latitude: 4703.5341\n",
      "Longitude: 1527.7535\n",
      "Notified emergency responders!\n"
     ]
    }
   ],
   "source": [
    "detectCollision(23, 'Audio-233.mp3')"
   ]
  },
  {
   "cell_type": "markdown",
   "metadata": {},
   "source": [
    "##### Case 2: Accelerometer False-positive"
   ]
  },
  {
   "cell_type": "code",
   "execution_count": 59,
   "metadata": {},
   "outputs": [
    {
     "name": "stdout",
     "output_type": "stream",
     "text": [
      "Not a crash! False positive from accelerometer.\n"
     ]
    }
   ],
   "source": [
    "detectCollision(23, 'Audio-956.mp3')"
   ]
  },
  {
   "cell_type": "markdown",
   "metadata": {},
   "source": [
    "##### Case 3: G-force < threshold"
   ]
  },
  {
   "cell_type": "code",
   "execution_count": 60,
   "metadata": {},
   "outputs": [
    {
     "name": "stdout",
     "output_type": "stream",
     "text": [
      "Not a crash!\n"
     ]
    }
   ],
   "source": [
    "detectCollision(3, 'Audio-1.mp3')"
   ]
  },
  {
   "cell_type": "code",
   "execution_count": null,
   "metadata": {},
   "outputs": [],
   "source": []
  }
 ],
 "metadata": {
  "kernelspec": {
   "display_name": "Python 3",
   "language": "python",
   "name": "python3"
  },
  "language_info": {
   "codemirror_mode": {
    "name": "ipython",
    "version": 3
   },
   "file_extension": ".py",
   "mimetype": "text/x-python",
   "name": "python",
   "nbconvert_exporter": "python",
   "pygments_lexer": "ipython3",
   "version": "3.7.6"
  }
 },
 "nbformat": 4,
 "nbformat_minor": 4
}
